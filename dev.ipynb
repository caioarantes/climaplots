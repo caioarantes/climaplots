{
 "cells": [
  {
   "cell_type": "code",
   "execution_count": 2,
   "id": "76d1142f",
   "metadata": {},
   "outputs": [
    {
     "name": "stdout",
     "output_type": "stream",
     "text": [
      "Climate data request completed successfully\n",
      "        Date  Max Temperature  Precipitation  Min Temperature   RH2M  \\\n",
      "0 1981-01-01            17.16           0.10             5.31  69.21   \n",
      "1 1981-01-02            12.53           3.68             4.43  76.80   \n",
      "2 1981-01-03            14.30           1.37             9.01  91.73   \n",
      "3 1981-01-04            16.79           0.05             7.51  86.71   \n",
      "4 1981-01-05            17.01           0.00             5.15  78.53   \n",
      "\n",
      "   ALLSKY_SFC_SW_DWN  \n",
      "0             -999.0  \n",
      "1             -999.0  \n",
      "2             -999.0  \n",
      "3             -999.0  \n",
      "4             -999.0  \n"
     ]
    }
   ],
   "source": [
    "import datetime\n",
    "import requests\n",
    "import json\n",
    "import pandas as pd\n",
    "\n",
    "# Example coordinates\n",
    "longitude = -122.4194  # San Francisco\n",
    "latitude = 37.7749\n",
    "\n",
    "# Calculate end date (previous year to ensure complete data)\n",
    "endtime = str(int(datetime.date.today().strftime(\"%Y\")) - 1) + '1231'\n",
    "\n",
    "# Construct API request URL\n",
    "base_url = (\n",
    "    r\"https://power.larc.nasa.gov/api/temporal/daily/point?\"\n",
    "    r\"parameters=T2M_MAX,PRECTOTCORR,T2M_MIN,RH2M,ALLSKY_SFC_SW_DWN&community=RE&\"\n",
    "    r\"longitude={longitude}&latitude={latitude}&\"\n",
    "    r\"start=19810101&end=\" + endtime + \"&format=JSON\"\n",
    ")\n",
    "\n",
    "api_request_url = base_url.format(\n",
    "    longitude=longitude, \n",
    "    latitude=latitude\n",
    ")\n",
    "\n",
    "# Prepare proxy settings for requests (set to empty string if not needed)\n",
    "proxy = \"\"  # e.g., \"http://yourproxy:port\"\n",
    "proxies = {}\n",
    "if proxy:\n",
    "    proxies = {\n",
    "        'http': proxy,\n",
    "        'https': proxy\n",
    "    }\n",
    "    print(f\"Using proxy: {proxy}\")\n",
    "\n",
    "# Make API request with timeout and proxy support\n",
    "response = None\n",
    "try:\n",
    "    if proxies:\n",
    "        print(\"Attempting request with proxy...\")\n",
    "        response = requests.get(\n",
    "            url=api_request_url, \n",
    "            verify=True, \n",
    "            timeout=100,\n",
    "            proxies=proxies\n",
    "        )\n",
    "    else:\n",
    "        # No proxy configured, make direct request\n",
    "        response = requests.get(\n",
    "            url=api_request_url, \n",
    "            verify=True, \n",
    "            timeout=100\n",
    "        )\n",
    "except Exception as e:\n",
    "    if proxies:\n",
    "        print(f\"Request with proxy failed: {e}\")\n",
    "        print(\"Retrying without proxy...\")\n",
    "        try:\n",
    "            response = requests.get(\n",
    "                url=api_request_url, \n",
    "                verify=True, \n",
    "                timeout=100\n",
    "            )\n",
    "            print(\"Request successful without proxy\")\n",
    "        except Exception as e2:\n",
    "            print(f\"Request failed even without proxy: {e2}\")\n",
    "            raise e2\n",
    "    else:\n",
    "        print(f\"Direct request failed: {e}\")\n",
    "        raise e\n",
    "\n",
    "content = json.loads(response.content.decode('utf-8'))\n",
    "\n",
    "# Convert to DataFrame and rename columns\n",
    "df = pd.DataFrame.from_dict(content['properties']['parameter'])\n",
    "df = df.reset_index().rename(columns={\n",
    "    'index': 'Date', \n",
    "    'PRECTOTCORR': 'Precipitation', \n",
    "    'T2M_MIN': 'Min Temperature', \n",
    "    'T2M_MAX': 'Max Temperature'\n",
    "})\n",
    "\n",
    "# Convert date column to datetime\n",
    "df.Date = pd.to_datetime(df.Date)\n",
    "\n",
    "print('Climate data request completed successfully')\n",
    "print(df.head())\n"
   ]
  },
  {
   "cell_type": "code",
   "execution_count": null,
   "id": "724a3cab",
   "metadata": {},
   "outputs": [
    {
     "name": "stderr",
     "output_type": "stream",
     "text": [
      "C:\\Users\\pc\\AppData\\Local\\Temp\\ipykernel_5196\\3925605998.py:3: FutureWarning: A value is trying to be set on a copy of a DataFrame or Series through chained assignment using an inplace method.\n",
      "The behavior will change in pandas 3.0. This inplace method will never work because the intermediate object on which we are setting values always behaves as a copy.\n",
      "\n",
      "For example, when doing 'df[col].method(value, inplace=True)', try using 'df.method({col: value}, inplace=True)' or df[col] = df[col].method(value) instead, to perform the operation inplace on the original object.\n",
      "\n",
      "\n",
      "  df['ALLSKY_SFC_SW_DWN'].replace(-999.0, np.nan, inplace=True)\n"
     ]
    }
   ],
   "source": [
    "import numpy as np\n",
    "\n"
   ]
  },
  {
   "cell_type": "code",
   "execution_count": 5,
   "id": "68a71cbd",
   "metadata": {},
   "outputs": [
    {
     "name": "stdout",
     "output_type": "stream",
     "text": [
      "<class 'pandas.core.frame.DataFrame'>\n",
      "RangeIndex: 16071 entries, 0 to 16070\n",
      "Data columns (total 6 columns):\n",
      " #   Column             Non-Null Count  Dtype         \n",
      "---  ------             --------------  -----         \n",
      " 0   Date               16071 non-null  datetime64[ns]\n",
      " 1   Max Temperature    16071 non-null  float64       \n",
      " 2   Precipitation      16071 non-null  float64       \n",
      " 3   Min Temperature    16071 non-null  float64       \n",
      " 4   RH2M               16071 non-null  float64       \n",
      " 5   ALLSKY_SFC_SW_DWN  14976 non-null  float64       \n",
      "dtypes: datetime64[ns](1), float64(5)\n",
      "memory usage: 753.5 KB\n"
     ]
    }
   ],
   "source": [
    "df.info()"
   ]
  }
 ],
 "metadata": {
  "kernelspec": {
   "display_name": "base",
   "language": "python",
   "name": "python3"
  },
  "language_info": {
   "codemirror_mode": {
    "name": "ipython",
    "version": 3
   },
   "file_extension": ".py",
   "mimetype": "text/x-python",
   "name": "python",
   "nbconvert_exporter": "python",
   "pygments_lexer": "ipython3",
   "version": "3.13.5"
  }
 },
 "nbformat": 4,
 "nbformat_minor": 5
}
